{
 "cells": [
  {
   "cell_type": "code",
   "execution_count": 8,
   "outputs": [],
   "source": [
    "import numpy as np"
   ],
   "metadata": {
    "collapsed": false,
    "pycharm": {
     "name": "#%%\n"
    }
   }
  },
  {
   "cell_type": "code",
   "execution_count": 104,
   "outputs": [],
   "source": [
    "def file_to_list(f):\n",
    "    return [line.strip() for line in f]"
   ],
   "metadata": {
    "collapsed": false,
    "pycharm": {
     "name": "#%%\n"
    }
   }
  },
  {
   "cell_type": "code",
   "execution_count": 105,
   "outputs": [],
   "source": [
    "def list_to_array(l):\n",
    "    return np.array([[ord(c) for c in word] for word in l])"
   ],
   "metadata": {
    "collapsed": false,
    "pycharm": {
     "name": "#%%\n"
    }
   }
  },
  {
   "cell_type": "code",
   "execution_count": 106,
   "outputs": [
    {
     "data": {
      "text/plain": "3450"
     },
     "execution_count": 106,
     "metadata": {},
     "output_type": "execute_result"
    }
   ],
   "source": [
    "with open('full_five_letters_words.txt') as f:\n",
    "    words = file_to_list(f)\n",
    "len(words)"
   ],
   "metadata": {
    "collapsed": false,
    "pycharm": {
     "name": "#%%\n"
    }
   }
  },
  {
   "cell_type": "code",
   "execution_count": 107,
   "outputs": [
    {
     "data": {
      "text/plain": "('inter', 'rower')"
     },
     "execution_count": 107,
     "metadata": {},
     "output_type": "execute_result"
    }
   ],
   "source": [
    "words[0], words[2]"
   ],
   "metadata": {
    "collapsed": false,
    "pycharm": {
     "name": "#%%\n"
    }
   }
  },
  {
   "cell_type": "code",
   "execution_count": 108,
   "outputs": [],
   "source": [
    "words_a = list_to_array(words)"
   ],
   "metadata": {
    "collapsed": false,
    "pycharm": {
     "name": "#%%\n"
    }
   }
  },
  {
   "cell_type": "code",
   "execution_count": 109,
   "outputs": [
    {
     "data": {
      "text/plain": "(3450, 3450, 5)"
     },
     "execution_count": 109,
     "metadata": {},
     "output_type": "execute_result"
    }
   ],
   "source": [
    "green = words_a[:, np.newaxis, :] == words_a[np.newaxis, :, :]\n",
    "green.shape"
   ],
   "metadata": {
    "collapsed": false,
    "pycharm": {
     "name": "#%%\n"
    }
   }
  },
  {
   "cell_type": "code",
   "execution_count": 110,
   "outputs": [
    {
     "data": {
      "text/plain": "array([False, False, False,  True,  True])"
     },
     "execution_count": 110,
     "metadata": {},
     "output_type": "execute_result"
    }
   ],
   "source": [
    "green[0, 2]"
   ],
   "metadata": {
    "collapsed": false,
    "pycharm": {
     "name": "#%%\n"
    }
   }
  },
  {
   "cell_type": "code",
   "execution_count": 111,
   "outputs": [],
   "source": [
    "yellow = (words_a[:, np.newaxis, :, np.newaxis] == words_a[np.newaxis, :, np.newaxis, :]).sum(axis=3).astype(bool)"
   ],
   "metadata": {
    "collapsed": false,
    "pycharm": {
     "name": "#%%\n"
    }
   }
  },
  {
   "cell_type": "code",
   "execution_count": 112,
   "outputs": [
    {
     "data": {
      "text/plain": "(3450, 3450, 5)"
     },
     "execution_count": 112,
     "metadata": {},
     "output_type": "execute_result"
    }
   ],
   "source": [
    "yellow.shape"
   ],
   "metadata": {
    "collapsed": false,
    "pycharm": {
     "name": "#%%\n"
    }
   }
  },
  {
   "cell_type": "code",
   "execution_count": 114,
   "outputs": [
    {
     "data": {
      "text/plain": "('enrol', 'sleep')"
     },
     "execution_count": 114,
     "metadata": {},
     "output_type": "execute_result"
    }
   ],
   "source": [
    "words[4], words[6]"
   ],
   "metadata": {
    "collapsed": false,
    "pycharm": {
     "name": "#%%\n"
    }
   }
  },
  {
   "cell_type": "code",
   "execution_count": 115,
   "outputs": [
    {
     "data": {
      "text/plain": "array([ True, False, False, False,  True])"
     },
     "execution_count": 115,
     "metadata": {},
     "output_type": "execute_result"
    }
   ],
   "source": [
    "yellow[4,6]"
   ],
   "metadata": {
    "collapsed": false,
    "pycharm": {
     "name": "#%%\n"
    }
   }
  },
  {
   "cell_type": "code",
   "execution_count": 156,
   "outputs": [],
   "source": [
    "def encode(a, base):\n",
    "    powers = (base ** np.arange(a.shape[-1])).reshape(((1,) * (len(a.shape) - 1)) + (-1,))\n",
    "    return (a * powers).sum(axis=-1)"
   ],
   "metadata": {
    "collapsed": false,
    "pycharm": {
     "name": "#%%\n"
    }
   }
  },
  {
   "cell_type": "code",
   "execution_count": 161,
   "outputs": [
    {
     "data": {
      "text/plain": "(3450, 3450)"
     },
     "execution_count": 161,
     "metadata": {},
     "output_type": "execute_result"
    }
   ],
   "source": [
    "encoded = encode(green, 4) * 2 + encode(yellow, 4)\n",
    "encoded.shape"
   ],
   "metadata": {
    "collapsed": false,
    "pycharm": {
     "name": "#%%\n"
    }
   }
  },
  {
   "cell_type": "code",
   "execution_count": 163,
   "outputs": [
    {
     "data": {
      "text/plain": "array([[1023,  273,  960, ...,    1,    0,   16],\n       [  84, 1023,    4, ...,   16,    0,   64],\n       [ 961,  257, 1023, ...,    4,    0,    0],\n       ...,\n       [   4,    4,   64, ..., 1023,   16,   16],\n       [   0,    0,    0, ...,    1, 1023,  117],\n       [ 256,  256,    0, ...,    4,  117, 1023]])"
     },
     "execution_count": 163,
     "metadata": {},
     "output_type": "execute_result"
    }
   ],
   "source": [
    "encoded"
   ],
   "metadata": {
    "collapsed": false,
    "pycharm": {
     "name": "#%%\n"
    }
   }
  },
  {
   "cell_type": "code",
   "execution_count": 237,
   "outputs": [],
   "source": [
    "def choose(encoded, active):\n",
    "    best, best_score = 0, np.inf\n",
    "    for i in active:\n",
    "        row = encoded[i, active]\n",
    "        bincount = np.bincount(row)\n",
    "        score = (bincount * (bincount - 1)).sum() / bincount.sum()\n",
    "        if score < best_score:\n",
    "            best, best_score = i, score\n",
    "    return best, best_score"
   ],
   "metadata": {
    "collapsed": false,
    "pycharm": {
     "name": "#%%\n"
    }
   }
  },
  {
   "cell_type": "code",
   "execution_count": 238,
   "outputs": [
    {
     "data": {
      "text/plain": "(1477, 81.94898550724638)"
     },
     "execution_count": 238,
     "metadata": {},
     "output_type": "execute_result"
    }
   ],
   "source": [
    "choose(encoded, np.arange(words_a.shape[0]))"
   ],
   "metadata": {
    "collapsed": false,
    "pycharm": {
     "name": "#%%\n"
    }
   }
  },
  {
   "cell_type": "code",
   "execution_count": 248,
   "outputs": [],
   "source": [
    "def play():\n",
    "    word = np.random.randint(len(words))\n",
    "    # print(f\"The word is {words[word].upper()}\")\n",
    "    active = np.arange(len(words))\n",
    "    while True:\n",
    "        guess, guess_score = choose(encoded, active)\n",
    "        print(f\"Guess: {words[guess].upper()} (score {guess_score:.2f})\")\n",
    "        response = ['G' if g else 'Y' if y else '-'\n",
    "                    for g, y in zip(green[guess, word], yellow[guess, word])]\n",
    "        print(''.join(response))\n",
    "        if guess == word:\n",
    "            print(\"Correct!\")\n",
    "            break\n",
    "        active = active[encoded[guess, active] == encoded[guess, word]]\n",
    "        candidates = ' '.join(words[candidate].upper() for candidate in active[:5])\n",
    "        if active.size > 5:\n",
    "            candidates = candidates + \" ...\"\n",
    "        print(f\"Remaining possible words: {active.size} ({candidates})\")\n",
    "        assert word in active, (word, active)"
   ],
   "metadata": {
    "collapsed": false,
    "pycharm": {
     "name": "#%%\n"
    }
   }
  },
  {
   "cell_type": "code",
   "execution_count": 257,
   "outputs": [
    {
     "name": "stdout",
     "output_type": "stream",
     "text": [
      "Guess: ALOES (score 81.95)\n",
      "Y--Y-\n",
      "Remaining possible words: 126 (MAYBE GREAT GAFFE TWEAK MATTE ...)\n",
      "Guess: CRATE (score 4.63)\n",
      "-YYYY\n",
      "Remaining possible words: 2 (EXTRA TERRA)\n",
      "Guess: EXTRA (score 0.00)\n",
      "Y-YGG\n",
      "Remaining possible words: 1 (TERRA)\n",
      "Guess: TERRA (score 0.00)\n",
      "GGGGG\n",
      "Correct!\n"
     ]
    }
   ],
   "source": [
    "play()"
   ],
   "metadata": {
    "collapsed": false,
    "pycharm": {
     "name": "#%%\n"
    }
   }
  },
  {
   "cell_type": "code",
   "execution_count": null,
   "outputs": [],
   "source": [],
   "metadata": {
    "collapsed": false,
    "pycharm": {
     "name": "#%%\n"
    }
   }
  }
 ],
 "metadata": {
  "kernelspec": {
   "display_name": "Python 3",
   "language": "python",
   "name": "python3"
  },
  "language_info": {
   "codemirror_mode": {
    "name": "ipython",
    "version": 2
   },
   "file_extension": ".py",
   "mimetype": "text/x-python",
   "name": "python",
   "nbconvert_exporter": "python",
   "pygments_lexer": "ipython2",
   "version": "2.7.6"
  }
 },
 "nbformat": 4,
 "nbformat_minor": 0
}