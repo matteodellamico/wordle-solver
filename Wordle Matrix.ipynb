{
 "cells": [
  {
   "cell_type": "markdown",
   "metadata": {
    "pycharm": {
     "name": "#%% md\n"
    }
   },
   "source": [
    "Wordle Solver\n",
    "=============\n",
    "\n",
    "The idea is to take at each step the guess that would result in the lowest expected number of words that are still possible.\n",
    "\n",
    "We do some precomputation with respect to that, by computing a matrix that returns an encoding of the result (position of all yellow and green letters) where in the row we have the correct word and in the column the guess."
   ]
  },
  {
   "cell_type": "code",
   "execution_count": 1,
   "metadata": {
    "pycharm": {
     "name": "#%%\n"
    }
   },
   "outputs": [],
   "source": [
    "import itertools\n",
    "\n",
    "import numpy as np"
   ]
  },
  {
   "cell_type": "code",
   "execution_count": 2,
   "metadata": {
    "pycharm": {
     "name": "#%%\n"
    }
   },
   "outputs": [
    {
     "data": {
      "text/plain": "3448"
     },
     "execution_count": 2,
     "metadata": {},
     "output_type": "execute_result"
    }
   ],
   "source": [
    "# parse the word list\n",
    "def file_to_list(f):\n",
    "    return list({line.strip() for line in f})\n",
    "with open('wordle_words.txt') as f:\n",
    "    words = file_to_list(f)\n",
    "len(words)"
   ]
  },
  {
   "cell_type": "code",
   "execution_count": 3,
   "metadata": {
    "pycharm": {
     "name": "#%%\n"
    }
   },
   "outputs": [],
   "source": [
    "# convert to a numpy array\n",
    "def list_to_array(l):\n",
    "    return np.array([[ord(c) for c in word] for word in l])\n",
    "words_a = list_to_array(words)"
   ]
  },
  {
   "cell_type": "code",
   "execution_count": 4,
   "metadata": {
    "pycharm": {
     "name": "#%%\n"
    }
   },
   "outputs": [
    {
     "name": "stdout",
     "output_type": "stream",
     "text": [
      "CPU times: user 166 ms, sys: 48.4 ms, total: 215 ms\n",
      "Wall time: 177 ms\n"
     ]
    },
    {
     "data": {
      "text/plain": "(3448, 3448, 5)"
     },
     "execution_count": 4,
     "metadata": {},
     "output_type": "execute_result"
    }
   ],
   "source": [
    "# n x n x 5 array representing which letters are green when the guess (dim 9) is done against the true word (dim 1)\n",
    "\n",
    "%time green = words_a[:, np.newaxis, :] == words_a[np.newaxis, :, :]  # numpy vectorization magic\n",
    "green.shape"
   ]
  },
  {
   "cell_type": "code",
   "execution_count": 5,
   "metadata": {
    "pycharm": {
     "name": "#%%\n"
    }
   },
   "outputs": [
    {
     "name": "stdout",
     "output_type": "stream",
     "text": [
      "glass tires\n"
     ]
    },
    {
     "data": {
      "text/plain": "array([False, False, False, False,  True])"
     },
     "execution_count": 5,
     "metadata": {},
     "output_type": "execute_result"
    }
   ],
   "source": [
    "# quick check\n",
    "\n",
    "print(words[0], words[2])\n",
    "green[0, 2]"
   ]
  },
  {
   "cell_type": "code",
   "execution_count": 6,
   "metadata": {
    "pycharm": {
     "name": "#%%\n"
    }
   },
   "outputs": [
    {
     "name": "stdout",
     "output_type": "stream",
     "text": [
      "CPU times: user 1.84 s, sys: 173 ms, total: 2.01 s\n",
      "Wall time: 2.01 s\n"
     ]
    },
    {
     "data": {
      "text/plain": "(3448, 3448, 5)"
     },
     "execution_count": 6,
     "metadata": {},
     "output_type": "execute_result"
    }
   ],
   "source": [
    "# same, but for yellow. This requires some numpy black magic. But it's concise and fast.\n",
    "\n",
    "%time yellow = (words_a[:, np.newaxis, :, np.newaxis] == words_a[np.newaxis, :, np.newaxis, :]).sum(axis=3).astype(bool)\n",
    "yellow.shape"
   ]
  },
  {
   "cell_type": "code",
   "execution_count": 7,
   "metadata": {
    "pycharm": {
     "name": "#%%\n"
    }
   },
   "outputs": [
    {
     "name": "stdout",
     "output_type": "stream",
     "text": [
      "grand crepe\n"
     ]
    },
    {
     "data": {
      "text/plain": "array([False,  True, False, False, False])"
     },
     "execution_count": 7,
     "metadata": {},
     "output_type": "execute_result"
    }
   ],
   "source": [
    "print(words[4], words[6])\n",
    "yellow[4,6]"
   ]
  },
  {
   "cell_type": "code",
   "execution_count": 8,
   "metadata": {
    "pycharm": {
     "name": "#%%\n"
    }
   },
   "outputs": [
    {
     "data": {
      "text/plain": "71"
     },
     "execution_count": 8,
     "metadata": {},
     "output_type": "execute_result"
    }
   ],
   "source": [
    "def encode(a, base):\n",
    "    \"\"\"Encode the last dimension of an array as a single integer that is a function of its values.\n",
    "\n",
    "    The way we do it is by encoding a 1d array x as sum(v * base**i for i, v in enumerate(x)).\n",
    "    \"\"\"\n",
    "\n",
    "    powers = (base ** np.arange(a.shape[-1])).reshape(((1,) * (len(a.shape) - 1)) + (-1,))\n",
    "    return (a * powers).sum(axis=-1)\n",
    "encode(np.array([1, 4, 2]), 5)  # 1 + 4 * 5 + 2 * 25 = 71"
   ]
  },
  {
   "cell_type": "code",
   "execution_count": 9,
   "metadata": {
    "pycharm": {
     "name": "#%%\n"
    }
   },
   "outputs": [
    {
     "name": "stdout",
     "output_type": "stream",
     "text": [
      "CPU times: user 873 ms, sys: 212 ms, total: 1.09 s\n",
      "Wall time: 1.08 s\n"
     ]
    },
    {
     "data": {
      "text/plain": "(3448, 3448)"
     },
     "execution_count": 9,
     "metadata": {},
     "output_type": "execute_result"
    }
   ],
   "source": [
    "# This is the encoded guess-result matrix. Consider each position as 3 (green), 1 (yellow) or 0 (grey)\n",
    "# encoded[i, j] will be sum(v[k] * 4 ** k for k in range(5)) where v[k] is the value above for green/yellow/grey and k is the position\n",
    "\n",
    "%time encoded = encode(green, 4) * 2 + encode(yellow, 4)\n",
    "encoded.shape"
   ]
  },
  {
   "cell_type": "code",
   "execution_count": 10,
   "metadata": {
    "pycharm": {
     "name": "#%%\n"
    }
   },
   "outputs": [
    {
     "data": {
      "text/plain": "array([[1023,  880,  832, ...,    3,  372,    4],\n       [ 816, 1023,  772, ...,    4,  304,    0],\n       [ 768,  784, 1023, ...,   16,  256,   64],\n       ...,\n       [   3,   64,   64, ..., 1023,    0,    4],\n       [ 369,   49,    1, ...,    0, 1023,  320],\n       [   1,    0,    4, ...,   64,    1, 1023]])"
     },
     "execution_count": 10,
     "metadata": {},
     "output_type": "execute_result"
    }
   ],
   "source": [
    "# here's what our matrix looks like. The visualization says we have 501 columns but it's a bug.\n",
    "\n",
    "encoded"
   ]
  },
  {
   "cell_type": "code",
   "execution_count": 11,
   "metadata": {
    "pycharm": {
     "name": "#%%\n"
    }
   },
   "outputs": [],
   "source": [
    "def choose(encoded, active):\n",
    "    \"\"\"Choose a guess given that the columns in active are possible.\n",
    "\n",
    "    Returns the index of the word to choose and the expected number of possible words after the guess.\n",
    "\n",
    "    Could be improved by considering the possibility of choosing a word that's not possible.\n",
    "    \"\"\"\n",
    "\n",
    "    best, best_score = 0, np.inf\n",
    "    for i in active:\n",
    "        row = encoded[i, active]\n",
    "        bincount = np.bincount(row)  # number of possibilities for each result\n",
    "        score = (bincount * (bincount - 1)).sum() / bincount.sum()  # expected number of still-valid alternatives\n",
    "        if score < best_score:\n",
    "            best, best_score = i, score\n",
    "    return best, best_score"
   ]
  },
  {
   "cell_type": "code",
   "execution_count": 12,
   "metadata": {
    "pycharm": {
     "name": "#%%\n"
    }
   },
   "outputs": [
    {
     "name": "stdout",
     "output_type": "stream",
     "text": [
      "aloes 81.99245939675174\n"
     ]
    }
   ],
   "source": [
    "# The word with the best score as a first attempt\n",
    "\n",
    "best, best_score = choose(encoded, np.arange(words_a.shape[0]))\n",
    "print(words[best], best_score)"
   ]
  },
  {
   "cell_type": "code",
   "execution_count": 13,
   "metadata": {
    "pycharm": {
     "name": "#%%\n"
    }
   },
   "outputs": [],
   "source": [
    "def play(word=None, verbose=True):\n",
    "    \"\"\"Play the game. If verbose, print stuff to see what's happening.\n",
    "\n",
    "    Returns the number of guesses needed to get the right word.\n",
    "    \"\"\"\n",
    "\n",
    "    if word is None:\n",
    "        word = np.random.randint(len(words))\n",
    "    # print(f\"The word is {words[word].upper()}\")\n",
    "    active = np.arange(len(words))\n",
    "    for i in itertools.count():\n",
    "        guess, guess_score = choose(encoded, active)\n",
    "        if verbose:\n",
    "            print(f\"Guess: {words[guess].upper()} (score {guess_score:.2f})\")\n",
    "            response = ['G' if g else 'Y' if y else '-'\n",
    "                    for g, y in zip(green[guess, word], yellow[guess, word])]\n",
    "            print(''.join(response))\n",
    "        if guess == word:\n",
    "            if verbose:\n",
    "                print(\"Correct!\")\n",
    "            break\n",
    "        active = active[encoded[guess, active] == encoded[guess, word]]  # update the possible words\n",
    "        if verbose:\n",
    "            candidates = ' '.join(words[candidate].upper() for candidate in active[:5])\n",
    "            if active.size > 5:\n",
    "                candidates = candidates + \" ...\"\n",
    "            print(f\"Remaining possible words: {active.size} ({candidates})\")\n",
    "        assert word in active\n",
    "    return i + 1"
   ]
  },
  {
   "cell_type": "code",
   "execution_count": 14,
   "metadata": {
    "pycharm": {
     "name": "#%%\n"
    }
   },
   "outputs": [
    {
     "name": "stdout",
     "output_type": "stream",
     "text": [
      "Guess: ALOES (score 81.99)\n",
      "-Y-Y-\n",
      "Remaining possible words: 50 (BELCH LEERY LIEGE LUNGE LITHE ...)\n",
      "Guess: UTILE (score 2.08)\n",
      "---YY\n",
      "Remaining possible words: 6 (BELCH LEERY LEECH BERYL WELCH ...)\n",
      "Guess: BELCH (score 0.33)\n",
      "-GGGG\n",
      "Remaining possible words: 1 (WELCH)\n",
      "Guess: WELCH (score 0.00)\n",
      "GGGGG\n",
      "Correct!\n"
     ]
    },
    {
     "data": {
      "text/plain": "4"
     },
     "execution_count": 14,
     "metadata": {},
     "output_type": "execute_result"
    }
   ],
   "source": [
    "# example play\n",
    "play()"
   ]
  },
  {
   "cell_type": "code",
   "execution_count": 15,
   "metadata": {
    "pycharm": {
     "name": "#%%\n"
    }
   },
   "outputs": [
    {
     "name": "stdout",
     "output_type": "stream",
     "text": [
      "Guess: ALOES (score 81.99)\n",
      "-G-Y-\n",
      "Remaining possible words: 18 (FLUME FLUTE ELECT BLEND ELFIN ...)\n",
      "Guess: ELITE (score 1.00)\n",
      "YGG-G\n",
      "Remaining possible words: 3 (GLIDE CLINE CLIME)\n",
      "Guess: CLINE (score 0.00)\n",
      "GGGGG\n",
      "Correct!\n"
     ]
    },
    {
     "data": {
      "text/plain": "3"
     },
     "execution_count": 15,
     "metadata": {},
     "output_type": "execute_result"
    }
   ],
   "source": [
    "# another one, 'cause we're getting curious and having some fun\n",
    "play()"
   ]
  },
  {
   "cell_type": "code",
   "execution_count": 16,
   "metadata": {
    "pycharm": {
     "name": "#%%\n"
    }
   },
   "outputs": [
    {
     "name": "stdout",
     "output_type": "stream",
     "text": [
      "word #0\n",
      "word #100\n",
      "word #200\n",
      "word #300\n",
      "word #400\n",
      "word #500\n",
      "word #600\n",
      "word #700\n",
      "word #800\n",
      "word #900\n",
      "word #1000\n",
      "word #1100\n",
      "word #1200\n",
      "word #1300\n",
      "word #1400\n",
      "word #1500\n",
      "word #1600\n",
      "word #1700\n",
      "word #1800\n",
      "word #1900\n",
      "word #2000\n",
      "word #2100\n",
      "word #2200\n",
      "word #2300\n",
      "word #2400\n",
      "word #2500\n",
      "word #2600\n",
      "word #2700\n",
      "word #2800\n",
      "word #2900\n",
      "word #3000\n",
      "word #3100\n",
      "word #3200\n",
      "word #3300\n",
      "word #3400\n",
      "CPU times: user 5min 19s, sys: 149 ms, total: 5min 19s\n",
      "Wall time: 5min 20s\n",
      "Avg. guesses: 3.8208; max attempts: 9 (caves)\n"
     ]
    }
   ],
   "source": [
    "# let's now do some brute forcing and find out average and max needed guesses\n",
    "\n",
    "def bruteforce():\n",
    "    \"\"\"Try all possible words and return average, max needed guesses and worst case word.\"\"\"\n",
    "    max = s = 0\n",
    "    worst_word = None\n",
    "    for i in range(len(words)):\n",
    "        if i % 100 == 0:\n",
    "            print(f\"word #{i}\")\n",
    "        guesses = play(i, False)\n",
    "        s += guesses\n",
    "        if guesses > max:\n",
    "            max = guesses\n",
    "            worst_word = i\n",
    "    return s / len(words), max, worst_word\n",
    "\n",
    "%time avg, max, worst_word = bruteforce()\n",
    "print(f\"Avg. guesses: {avg:.4f}; max attempts: {max} ({words[worst_word]})\")"
   ]
  },
  {
   "cell_type": "code",
   "execution_count": 17,
   "metadata": {
    "pycharm": {
     "name": "#%%\n"
    }
   },
   "outputs": [
    {
     "name": "stdout",
     "output_type": "stream",
     "text": [
      "Guess: ALOES (score 81.99)\n",
      "Y--GG\n",
      "Remaining possible words: 42 (GASES FAZES FAVES MATES BASES ...)\n",
      "Guess: FATES (score 15.90)\n",
      "-G-GG\n",
      "Remaining possible words: 25 (GASES BASES WAVES CAPES BARES ...)\n",
      "Guess: CAGES (score 7.60)\n",
      "GG-GG\n",
      "Remaining possible words: 6 (CAPES CASES CAKES CARES CANES ...)\n",
      "Guess: CAPES (score 3.33)\n",
      "GG-GG\n",
      "Remaining possible words: 5 (CASES CAKES CARES CANES CAVES)\n",
      "Guess: CASES (score 2.40)\n",
      "GGYGG\n",
      "Remaining possible words: 4 (CAKES CARES CANES CAVES)\n",
      "Guess: CAKES (score 1.50)\n",
      "GG-GG\n",
      "Remaining possible words: 3 (CARES CANES CAVES)\n",
      "Guess: CARES (score 0.67)\n",
      "GG-GG\n",
      "Remaining possible words: 2 (CANES CAVES)\n",
      "Guess: CANES (score 0.00)\n",
      "GG-GG\n",
      "Remaining possible words: 1 (CAVES)\n",
      "Guess: CAVES (score 0.00)\n",
      "GGGGG\n",
      "Correct!\n"
     ]
    },
    {
     "data": {
      "text/plain": "9"
     },
     "execution_count": 17,
     "metadata": {},
     "output_type": "execute_result"
    }
   ],
   "source": [
    "play(worst_word)"
   ]
  }
 ],
 "metadata": {
  "kernelspec": {
   "display_name": "Python 3",
   "language": "python",
   "name": "python3"
  },
  "language_info": {
   "codemirror_mode": {
    "name": "ipython",
    "version": 3
   },
   "file_extension": ".py",
   "mimetype": "text/x-python",
   "name": "python",
   "nbconvert_exporter": "python",
   "pygments_lexer": "ipython3",
   "version": "3.9.7"
  }
 },
 "nbformat": 4,
 "nbformat_minor": 1
}