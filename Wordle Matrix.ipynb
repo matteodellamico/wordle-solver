{
 "cells": [
  {
   "cell_type": "markdown",
   "metadata": {
    "pycharm": {
     "name": "#%% md\n"
    }
   },
   "source": [
    "Wordle Solver\n",
    "=============\n",
    "\n",
    "The idea is to take at each step the guess that would result in the lowest expected number of words that are still possible.\n",
    "\n",
    "We do some precomputation with respect to that, by computing a matrix that returns an encoding of the result (position of all yellow and green letters) where in the row we have the correct word and in the column the guess."
   ]
  },
  {
   "cell_type": "code",
   "execution_count": 1,
   "metadata": {
    "pycharm": {
     "name": "#%%\n"
    }
   },
   "outputs": [],
   "source": [
    "import itertools\n",
    "\n",
    "import numpy as np"
   ]
  },
  {
   "cell_type": "code",
   "execution_count": 2,
   "metadata": {
    "pycharm": {
     "name": "#%%\n"
    }
   },
   "outputs": [
    {
     "data": {
      "text/plain": "2315"
     },
     "execution_count": 2,
     "metadata": {},
     "output_type": "execute_result"
    }
   ],
   "source": [
    "# parse the word list\n",
    "def file_to_list(f):\n",
    "    return list({line.strip() for line in f})\n",
    "with open('wordle_words.txt') as f:\n",
    "    words = file_to_list(f)\n",
    "len(words)"
   ]
  },
  {
   "cell_type": "code",
   "execution_count": 3,
   "metadata": {
    "pycharm": {
     "name": "#%%\n"
    }
   },
   "outputs": [],
   "source": [
    "# convert to a numpy array\n",
    "def list_to_array(l):\n",
    "    return np.array([[ord(c) for c in word] for word in l])\n",
    "words_a = list_to_array(words)"
   ]
  },
  {
   "cell_type": "code",
   "execution_count": 4,
   "metadata": {
    "pycharm": {
     "name": "#%%\n"
    }
   },
   "outputs": [
    {
     "name": "stdout",
     "output_type": "stream",
     "text": [
      "CPU times: user 81.3 ms, sys: 6.32 ms, total: 87.6 ms\n",
      "Wall time: 85.7 ms\n"
     ]
    },
    {
     "data": {
      "text/plain": "(2315, 2315, 5)"
     },
     "execution_count": 4,
     "metadata": {},
     "output_type": "execute_result"
    }
   ],
   "source": [
    "# n x n x 5 array representing which letters are green when the guess (dim 9) is done against the true word (dim 1)\n",
    "\n",
    "%time green = words_a[:, np.newaxis, :] == words_a[np.newaxis, :, :]  # numpy vectorization magic\n",
    "green.shape"
   ]
  },
  {
   "cell_type": "code",
   "execution_count": 5,
   "metadata": {
    "pycharm": {
     "name": "#%%\n"
    }
   },
   "outputs": [
    {
     "name": "stdout",
     "output_type": "stream",
     "text": [
      "condo tangy\n"
     ]
    },
    {
     "data": {
      "text/plain": "array([False, False,  True, False, False])"
     },
     "execution_count": 5,
     "metadata": {},
     "output_type": "execute_result"
    }
   ],
   "source": [
    "# quick check\n",
    "\n",
    "print(words[0], words[2])\n",
    "green[0, 2]"
   ]
  },
  {
   "cell_type": "code",
   "execution_count": 6,
   "metadata": {
    "pycharm": {
     "name": "#%%\n"
    }
   },
   "outputs": [
    {
     "name": "stdout",
     "output_type": "stream",
     "text": [
      "CPU times: user 804 ms, sys: 87.1 ms, total: 891 ms\n",
      "Wall time: 891 ms\n"
     ]
    },
    {
     "data": {
      "text/plain": "(2315, 2315, 5)"
     },
     "execution_count": 6,
     "metadata": {},
     "output_type": "execute_result"
    }
   ],
   "source": [
    "# same, but for yellow. This requires some numpy black magic. But it's concise and fast.\n",
    "\n",
    "%time yellow = (words_a[:, np.newaxis, :, np.newaxis] == words_a[np.newaxis, :, np.newaxis, :]).sum(axis=3).astype(bool)\n",
    "yellow.shape"
   ]
  },
  {
   "cell_type": "code",
   "execution_count": 7,
   "metadata": {
    "pycharm": {
     "name": "#%%\n"
    }
   },
   "outputs": [
    {
     "name": "stdout",
     "output_type": "stream",
     "text": [
      "faint brown\n"
     ]
    },
    {
     "data": {
      "text/plain": "array([False, False, False,  True, False])"
     },
     "execution_count": 7,
     "metadata": {},
     "output_type": "execute_result"
    }
   ],
   "source": [
    "print(words[4], words[6])\n",
    "yellow[4,6]"
   ]
  },
  {
   "cell_type": "code",
   "execution_count": 8,
   "metadata": {
    "pycharm": {
     "name": "#%%\n"
    }
   },
   "outputs": [
    {
     "data": {
      "text/plain": "71"
     },
     "execution_count": 8,
     "metadata": {},
     "output_type": "execute_result"
    }
   ],
   "source": [
    "def encode(a, base):\n",
    "    \"\"\"Encode the last dimension of an array as a single integer that is a function of its values.\n",
    "\n",
    "    The way we do it is by encoding a 1d array x as sum(v * base**i for i, v in enumerate(x)).\n",
    "    \"\"\"\n",
    "\n",
    "    powers = (base ** np.arange(a.shape[-1])).reshape(((1,) * (len(a.shape) - 1)) + (-1,))\n",
    "    return (a * powers).sum(axis=-1)\n",
    "encode(np.array([1, 4, 2]), 5)  # 1 + 4 * 5 + 2 * 25 = 71"
   ]
  },
  {
   "cell_type": "code",
   "execution_count": 9,
   "metadata": {
    "pycharm": {
     "name": "#%%\n"
    }
   },
   "outputs": [
    {
     "name": "stdout",
     "output_type": "stream",
     "text": [
      "CPU times: user 369 ms, sys: 104 ms, total: 473 ms\n",
      "Wall time: 471 ms\n"
     ]
    },
    {
     "data": {
      "text/plain": "(2315, 2315)"
     },
     "execution_count": 9,
     "metadata": {},
     "output_type": "execute_result"
    }
   ],
   "source": [
    "# This is the encoded guess-result matrix. Consider each position as 3 (green), 1 (yellow) or 0 (grey)\n",
    "# encoded[i, j] will be sum(v[k] * 4 ** k for k in range(5)) where v[k] is the value above for green/yellow/grey and k is the position\n",
    "\n",
    "%time encoded = encode(green, 4) * 2 + encode(yellow, 4)\n",
    "encoded.shape"
   ]
  },
  {
   "cell_type": "code",
   "execution_count": 10,
   "metadata": {
    "pycharm": {
     "name": "#%%\n"
    }
   },
   "outputs": [
    {
     "data": {
      "text/plain": "array([[1023,   64,   48, ...,   16,    0,    0],\n       [ 256, 1023,   20, ...,   64,    0,   16],\n       [  48,    5, 1023, ...,   16,  192,   12],\n       ...,\n       [  64,   16,   64, ..., 1023,  772,  260],\n       [   0,    0,  192, ...,  788, 1023,  276],\n       [   0,    4,   12, ...,  320,  320, 1023]])"
     },
     "execution_count": 10,
     "metadata": {},
     "output_type": "execute_result"
    }
   ],
   "source": [
    "# here's what our matrix looks like. The visualization says we have 501 columns but it's a bug.\n",
    "\n",
    "encoded"
   ]
  },
  {
   "cell_type": "code",
   "execution_count": 11,
   "metadata": {
    "pycharm": {
     "name": "#%%\n"
    }
   },
   "outputs": [],
   "source": [
    "def choose(encoded, active):\n",
    "    \"\"\"Choose a guess given that the columns in active are possible.\n",
    "\n",
    "    Returns the index of the word to choose and the expected number of possible words after the guess.\n",
    "\n",
    "    Could be improved by considering the possibility of choosing a word that's not possible.\n",
    "    \"\"\"\n",
    "\n",
    "    best, best_score = 0, np.inf\n",
    "    for i in active:\n",
    "        row = encoded[i, active]\n",
    "        bincount = np.bincount(row)  # number of possibilities for each result\n",
    "        score = (bincount * (bincount - 1)).sum() / bincount.sum()  # expected number of still-valid alternatives\n",
    "        if score < best_score:\n",
    "            best, best_score = i, score\n",
    "    return best, best_score"
   ]
  },
  {
   "cell_type": "code",
   "execution_count": 12,
   "metadata": {
    "pycharm": {
     "name": "#%%\n"
    }
   },
   "outputs": [
    {
     "name": "stdout",
     "output_type": "stream",
     "text": [
      "raise 60.00086393088553\n"
     ]
    }
   ],
   "source": [
    "# The word with the best score as a first attempt\n",
    "\n",
    "best, best_score = choose(encoded, np.arange(words_a.shape[0]))\n",
    "print(words[best], best_score)"
   ]
  },
  {
   "cell_type": "code",
   "execution_count": 13,
   "metadata": {
    "pycharm": {
     "name": "#%%\n"
    }
   },
   "outputs": [],
   "source": [
    "def play(word=None, verbose=True):\n",
    "    \"\"\"Play the game. If verbose, print stuff to see what's happening.\n",
    "\n",
    "    Returns the number of guesses needed to get the right word.\n",
    "    \"\"\"\n",
    "\n",
    "    if word is None:\n",
    "        word = np.random.randint(len(words))\n",
    "    # print(f\"The word is {words[word].upper()}\")\n",
    "    active = np.arange(len(words))\n",
    "    for i in itertools.count():\n",
    "        guess, guess_score = choose(encoded, active)\n",
    "        if verbose:\n",
    "            print(f\"Guess: {words[guess].upper()} (score {guess_score:.2f})\")\n",
    "            response = ['G' if g else 'Y' if y else '-'\n",
    "                    for g, y in zip(green[guess, word], yellow[guess, word])]\n",
    "            print(''.join(response))\n",
    "        if guess == word:\n",
    "            if verbose:\n",
    "                print(\"Correct!\")\n",
    "            break\n",
    "        active = active[encoded[guess, active] == encoded[guess, word]]  # update the possible words\n",
    "        if verbose:\n",
    "            candidates = ' '.join(words[candidate].upper() for candidate in active[:5])\n",
    "            if active.size > 5:\n",
    "                candidates = candidates + \" ...\"\n",
    "            print(f\"Remaining possible words: {active.size} ({candidates})\")\n",
    "        assert word in active\n",
    "    return i + 1"
   ]
  },
  {
   "cell_type": "code",
   "execution_count": 14,
   "metadata": {
    "pycharm": {
     "name": "#%%\n"
    }
   },
   "outputs": [
    {
     "name": "stdout",
     "output_type": "stream",
     "text": [
      "Guess: RAISE (score 60.00)\n",
      "YY---\n",
      "Remaining possible words: 78 (MORAL ARBOR ORGAN BORAX CORAL ...)\n",
      "Guess: ACORN (score 4.74)\n",
      "Y--Y-\n",
      "Remaining possible words: 12 (GRAPH DRAMA DRAWL TRAMP FRAUD ...)\n",
      "Guess: WRATH (score 1.17)\n",
      "YGG--\n",
      "Remaining possible words: 2 (DRAWL BRAWL)\n",
      "Guess: DRAWL (score 0.00)\n",
      "-GGGG\n",
      "Remaining possible words: 1 (BRAWL)\n",
      "Guess: BRAWL (score 0.00)\n",
      "GGGGG\n",
      "Correct!\n"
     ]
    },
    {
     "data": {
      "text/plain": "5"
     },
     "execution_count": 14,
     "metadata": {},
     "output_type": "execute_result"
    }
   ],
   "source": [
    "# example play\n",
    "play()"
   ]
  },
  {
   "cell_type": "code",
   "execution_count": 15,
   "metadata": {
    "pycharm": {
     "name": "#%%\n"
    }
   },
   "outputs": [
    {
     "name": "stdout",
     "output_type": "stream",
     "text": [
      "Guess: RAISE (score 60.00)\n",
      "-Y--G\n",
      "Remaining possible words: 41 (AGATE BLAME PLATE HEAVE FLAME ...)\n",
      "Guess: PLATE (score 3.76)\n",
      "-GG-G\n",
      "Remaining possible words: 7 (BLAME FLAME GLAZE FLAKE BLAZE ...)\n",
      "Guess: BLAME (score 1.14)\n",
      "GGGGG\n",
      "Correct!\n"
     ]
    },
    {
     "data": {
      "text/plain": "3"
     },
     "execution_count": 15,
     "metadata": {},
     "output_type": "execute_result"
    }
   ],
   "source": [
    "# another one, 'cause we're getting curious and having some fun\n",
    "play()"
   ]
  },
  {
   "cell_type": "code",
   "execution_count": 16,
   "metadata": {
    "pycharm": {
     "name": "#%%\n"
    }
   },
   "outputs": [
    {
     "name": "stdout",
     "output_type": "stream",
     "text": [
      "word #0\n",
      "word #100\n",
      "word #200\n",
      "word #300\n",
      "word #400\n",
      "word #500\n",
      "word #600\n",
      "word #700\n",
      "word #800\n",
      "word #900\n",
      "word #1000\n",
      "word #1100\n",
      "word #1200\n",
      "word #1300\n",
      "word #1400\n",
      "word #1500\n",
      "word #1600\n",
      "word #1700\n",
      "word #1800\n",
      "word #1900\n",
      "word #2000\n",
      "word #2100\n",
      "word #2200\n",
      "word #2300\n",
      "CPU times: user 1min 58s, sys: 26 ms, total: 1min 58s\n",
      "Wall time: 1min 58s\n",
      "Avg. guesses: 3.6350; max attempts: 8 (boxer)\n"
     ]
    }
   ],
   "source": [
    "# let's now do some brute forcing and find out average and max needed guesses\n",
    "\n",
    "def bruteforce():\n",
    "    \"\"\"Try all possible words and return average, max needed guesses and worst case word.\"\"\"\n",
    "    max = s = 0\n",
    "    worst_word = None\n",
    "    for i in range(len(words)):\n",
    "        if i % 100 == 0:\n",
    "            print(f\"word #{i}\")\n",
    "        guesses = play(i, False)\n",
    "        s += guesses\n",
    "        if guesses > max:\n",
    "            max = guesses\n",
    "            worst_word = i\n",
    "    return s / len(words), max, worst_word\n",
    "\n",
    "%time avg, max, worst_word = bruteforce()\n",
    "print(f\"Avg. guesses: {avg:.4f}; max attempts: {max} ({words[worst_word]})\")"
   ]
  },
  {
   "cell_type": "code",
   "execution_count": 17,
   "metadata": {
    "pycharm": {
     "name": "#%%\n"
    }
   },
   "outputs": [
    {
     "name": "stdout",
     "output_type": "stream",
     "text": [
      "Guess: RAISE (score 60.00)\n",
      "Y---Y\n",
      "Remaining possible words: 102 (TREND ETHER DEMUR GRUEL POWER ...)\n",
      "Guess: OUTER (score 7.69)\n",
      "Y--GG\n",
      "Remaining possible words: 16 (POWER GONER POKER HOVER JOKER ...)\n",
      "Guess: MOWER (score 4.88)\n",
      "-G-GG\n",
      "Remaining possible words: 9 (GONER POKER HOVER JOKER CORER ...)\n",
      "Guess: COVER (score 2.44)\n",
      "-G-GG\n",
      "Remaining possible words: 5 (GONER POKER JOKER FOYER BOXER)\n",
      "Guess: POKER (score 1.20)\n",
      "-G-GG\n",
      "Remaining possible words: 3 (GONER FOYER BOXER)\n",
      "Guess: GONER (score 0.67)\n",
      "-G-GG\n",
      "Remaining possible words: 2 (FOYER BOXER)\n",
      "Guess: FOYER (score 0.00)\n",
      "-G-GG\n",
      "Remaining possible words: 1 (BOXER)\n",
      "Guess: BOXER (score 0.00)\n",
      "GGGGG\n",
      "Correct!\n"
     ]
    },
    {
     "data": {
      "text/plain": "8"
     },
     "execution_count": 17,
     "metadata": {},
     "output_type": "execute_result"
    }
   ],
   "source": [
    "# what happens with the worst word in the dataset\n",
    "\n",
    "play(worst_word)"
   ]
  }
 ],
 "metadata": {
  "kernelspec": {
   "display_name": "Python 3",
   "language": "python",
   "name": "python3"
  },
  "language_info": {
   "codemirror_mode": {
    "name": "ipython",
    "version": 3
   },
   "file_extension": ".py",
   "mimetype": "text/x-python",
   "name": "python",
   "nbconvert_exporter": "python",
   "pygments_lexer": "ipython3",
   "version": "3.9.7"
  }
 },
 "nbformat": 4,
 "nbformat_minor": 1
}